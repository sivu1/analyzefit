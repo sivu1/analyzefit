{
 "cells": [
  {
   "cell_type": "code",
   "execution_count": 1,
   "metadata": {},
   "outputs": [
    {
     "name": "stderr",
     "output_type": "stream",
     "text": [
      "/Users/wileymorgan/.virtualenvs/afit/lib/python2.7/site-packages/sklearn/cross_validation.py:44: DeprecationWarning: This module was deprecated in version 0.18 in favor of the model_selection module into which all the refactored classes and functions are moved. Also note that the interface of the new CV iterators are different from that of this module. This module will be removed in 0.20.\n",
      "  \"This module will be removed in 0.20.\", DeprecationWarning)\n"
     ]
    }
   ],
   "source": [
    "import pandas as pd\n",
    "import matplotlib.pyplot as plt\n",
    "import seaborn as sns\n",
    "import numpy as np\n",
    "#from LinReg import LinearRegressionGD\n",
    "from sklearn.preprocessing import StandardScaler, PolynomialFeatures\n",
    "from sklearn.linear_model import LinearRegression, RANSACRegressor\n",
    "from sklearn.cross_validation import train_test_split\n",
    "from sklearn.metrics import mean_squared_error, r2_score\n",
    "from sklearn.tree import DecisionTreeRegressor\n",
    "from sklearn.ensemble import RandomForestRegressor"
   ]
  },
  {
   "cell_type": "code",
   "execution_count": 2,
   "metadata": {
    "collapsed": true
   },
   "outputs": [],
   "source": [
    "df = pd.read_csv('https://archive.ics.uci.edu/ml/machine-learning-databases/housing/housing.data',\n",
    "                 header=None,sep=\"\\s+\")"
   ]
  },
  {
   "cell_type": "code",
   "execution_count": 3,
   "metadata": {},
   "outputs": [
    {
     "data": {
      "text/html": [
       "<div>\n",
       "<style>\n",
       "    .dataframe thead tr:only-child th {\n",
       "        text-align: right;\n",
       "    }\n",
       "\n",
       "    .dataframe thead th {\n",
       "        text-align: left;\n",
       "    }\n",
       "\n",
       "    .dataframe tbody tr th {\n",
       "        vertical-align: top;\n",
       "    }\n",
       "</style>\n",
       "<table border=\"1\" class=\"dataframe\">\n",
       "  <thead>\n",
       "    <tr style=\"text-align: right;\">\n",
       "      <th></th>\n",
       "      <th>CRIM</th>\n",
       "      <th>ZN</th>\n",
       "      <th>INDUS</th>\n",
       "      <th>CHAS</th>\n",
       "      <th>NOX</th>\n",
       "      <th>RM</th>\n",
       "      <th>AGE</th>\n",
       "      <th>DIS</th>\n",
       "      <th>RAD</th>\n",
       "      <th>TAX</th>\n",
       "      <th>PTRATIO</th>\n",
       "      <th>B</th>\n",
       "      <th>LSTAT</th>\n",
       "      <th>MEDV</th>\n",
       "    </tr>\n",
       "  </thead>\n",
       "  <tbody>\n",
       "    <tr>\n",
       "      <th>0</th>\n",
       "      <td>0.00632</td>\n",
       "      <td>18.0</td>\n",
       "      <td>2.31</td>\n",
       "      <td>0</td>\n",
       "      <td>0.538</td>\n",
       "      <td>6.575</td>\n",
       "      <td>65.2</td>\n",
       "      <td>4.0900</td>\n",
       "      <td>1</td>\n",
       "      <td>296.0</td>\n",
       "      <td>15.3</td>\n",
       "      <td>396.90</td>\n",
       "      <td>4.98</td>\n",
       "      <td>24.0</td>\n",
       "    </tr>\n",
       "    <tr>\n",
       "      <th>1</th>\n",
       "      <td>0.02731</td>\n",
       "      <td>0.0</td>\n",
       "      <td>7.07</td>\n",
       "      <td>0</td>\n",
       "      <td>0.469</td>\n",
       "      <td>6.421</td>\n",
       "      <td>78.9</td>\n",
       "      <td>4.9671</td>\n",
       "      <td>2</td>\n",
       "      <td>242.0</td>\n",
       "      <td>17.8</td>\n",
       "      <td>396.90</td>\n",
       "      <td>9.14</td>\n",
       "      <td>21.6</td>\n",
       "    </tr>\n",
       "    <tr>\n",
       "      <th>2</th>\n",
       "      <td>0.02729</td>\n",
       "      <td>0.0</td>\n",
       "      <td>7.07</td>\n",
       "      <td>0</td>\n",
       "      <td>0.469</td>\n",
       "      <td>7.185</td>\n",
       "      <td>61.1</td>\n",
       "      <td>4.9671</td>\n",
       "      <td>2</td>\n",
       "      <td>242.0</td>\n",
       "      <td>17.8</td>\n",
       "      <td>392.83</td>\n",
       "      <td>4.03</td>\n",
       "      <td>34.7</td>\n",
       "    </tr>\n",
       "    <tr>\n",
       "      <th>3</th>\n",
       "      <td>0.03237</td>\n",
       "      <td>0.0</td>\n",
       "      <td>2.18</td>\n",
       "      <td>0</td>\n",
       "      <td>0.458</td>\n",
       "      <td>6.998</td>\n",
       "      <td>45.8</td>\n",
       "      <td>6.0622</td>\n",
       "      <td>3</td>\n",
       "      <td>222.0</td>\n",
       "      <td>18.7</td>\n",
       "      <td>394.63</td>\n",
       "      <td>2.94</td>\n",
       "      <td>33.4</td>\n",
       "    </tr>\n",
       "    <tr>\n",
       "      <th>4</th>\n",
       "      <td>0.06905</td>\n",
       "      <td>0.0</td>\n",
       "      <td>2.18</td>\n",
       "      <td>0</td>\n",
       "      <td>0.458</td>\n",
       "      <td>7.147</td>\n",
       "      <td>54.2</td>\n",
       "      <td>6.0622</td>\n",
       "      <td>3</td>\n",
       "      <td>222.0</td>\n",
       "      <td>18.7</td>\n",
       "      <td>396.90</td>\n",
       "      <td>5.33</td>\n",
       "      <td>36.2</td>\n",
       "    </tr>\n",
       "  </tbody>\n",
       "</table>\n",
       "</div>"
      ],
      "text/plain": [
       "      CRIM    ZN  INDUS  CHAS    NOX     RM   AGE     DIS  RAD    TAX  \\\n",
       "0  0.00632  18.0   2.31     0  0.538  6.575  65.2  4.0900    1  296.0   \n",
       "1  0.02731   0.0   7.07     0  0.469  6.421  78.9  4.9671    2  242.0   \n",
       "2  0.02729   0.0   7.07     0  0.469  7.185  61.1  4.9671    2  242.0   \n",
       "3  0.03237   0.0   2.18     0  0.458  6.998  45.8  6.0622    3  222.0   \n",
       "4  0.06905   0.0   2.18     0  0.458  7.147  54.2  6.0622    3  222.0   \n",
       "\n",
       "   PTRATIO       B  LSTAT  MEDV  \n",
       "0     15.3  396.90   4.98  24.0  \n",
       "1     17.8  396.90   9.14  21.6  \n",
       "2     17.8  392.83   4.03  34.7  \n",
       "3     18.7  394.63   2.94  33.4  \n",
       "4     18.7  396.90   5.33  36.2  "
      ]
     },
     "execution_count": 3,
     "metadata": {},
     "output_type": "execute_result"
    }
   ],
   "source": [
    "df.columns = [\"CRIM\",\"ZN\",\"INDUS\",\"CHAS\",\"NOX\",\"RM\",\"AGE\",\"DIS\",\"RAD\",\"TAX\",\"PTRATIO\",\"B\",\"LSTAT\",\"MEDV\"]\n",
    "df.head()"
   ]
  },
  {
   "cell_type": "code",
   "execution_count": 4,
   "metadata": {
    "collapsed": true
   },
   "outputs": [],
   "source": [
    "X = df[[\"RM\"]].values\n",
    "y = df[[\"MEDV\"]].values\n",
    "sc_x = StandardScaler()\n",
    "sc_y = StandardScaler()\n",
    "X_std = sc_x.fit_transform(X)\n",
    "y_std = sc_y.fit_transform(y)\n",
    "#lr = LinearRegressionGD()\n",
    "#lr.fit(X_std,y_std)"
   ]
  },
  {
   "cell_type": "code",
   "execution_count": 5,
   "metadata": {},
   "outputs": [
    {
     "name": "stdout",
     "output_type": "stream",
     "text": [
      "Slope: 9.102\n",
      "Intecept: -34.671\n"
     ]
    },
    {
     "name": "stderr",
     "output_type": "stream",
     "text": [
      "/Users/wileymorgan/.virtualenvs/afit/lib/python2.7/site-packages/scipy/linalg/basic.py:1018: RuntimeWarning: internal gelsd driver lwork query error, required iwork dimension not returned. This is likely the result of LAPACK bug 0038, fixed in LAPACK 3.2.2 (released July 21, 2010). Falling back to 'gelss' driver.\n",
      "  warnings.warn(mesg, RuntimeWarning)\n"
     ]
    }
   ],
   "source": [
    "slr = LinearRegression()\n",
    "slr.fit(X,y)\n",
    "print(\"Slope: %.3f\"%slr.coef_[0])\n",
    "print(\"Intecept: %.3f\"%slr.intercept_)"
   ]
  },
  {
   "cell_type": "code",
   "execution_count": 6,
   "metadata": {
    "collapsed": true
   },
   "outputs": [],
   "source": [
    "ransac = RANSACRegressor(LinearRegression(),max_trials=100,min_samples=50,\n",
    "                         residual_metric=lambda x: np.sum(np.abs(x),axis=1),\n",
    "                        residual_threshold=5.0,random_state=0)"
   ]
  },
  {
   "cell_type": "code",
   "execution_count": 7,
   "metadata": {},
   "outputs": [
    {
     "name": "stderr",
     "output_type": "stream",
     "text": [
      "/Users/wileymorgan/.virtualenvs/afit/lib/python2.7/site-packages/sklearn/linear_model/ransac.py:261: DeprecationWarning: 'residual_metric' was deprecated in version 0.18 and will be removed in version 0.20. Use 'loss' instead.\n",
      "  DeprecationWarning)\n"
     ]
    },
    {
     "data": {
      "text/plain": [
       "RANSACRegressor(base_estimator=LinearRegression(copy_X=True, fit_intercept=True, n_jobs=1, normalize=False),\n",
       "        is_data_valid=None, is_model_valid=None, loss='absolute_loss',\n",
       "        max_trials=100, min_samples=50, random_state=0,\n",
       "        residual_metric=<function <lambda> at 0x10f238848>,\n",
       "        residual_threshold=5.0, stop_n_inliers=inf, stop_probability=0.99,\n",
       "        stop_score=inf)"
      ]
     },
     "execution_count": 7,
     "metadata": {},
     "output_type": "execute_result"
    }
   ],
   "source": [
    "ransac.fit(X,y)"
   ]
  },
  {
   "cell_type": "code",
   "execution_count": 8,
   "metadata": {
    "collapsed": true
   },
   "outputs": [],
   "source": [
    "inlier_mask = ransac.inlier_mask_\n",
    "outlier_mask = np.logical_not(inlier_mask)"
   ]
  },
  {
   "cell_type": "markdown",
   "metadata": {},
   "source": [
    "# Validating the model "
   ]
  },
  {
   "cell_type": "code",
   "execution_count": 9,
   "metadata": {
    "collapsed": true
   },
   "outputs": [],
   "source": [
    "X = df.iloc[:,:-1].values\n",
    "y = df[\"MEDV\"].values\n",
    "X_train, X_test,y_train,y_test = train_test_split(X,y, test_size=0.3,random_state=0)\n",
    "slr = LinearRegression()\n",
    "slr.fit(X,y)\n",
    "y_train_pred = slr.predict(X_train)\n",
    "y_test_pred = slr.predict(X_test)"
   ]
  },
  {
   "cell_type": "code",
   "execution_count": 10,
   "metadata": {
    "collapsed": true
   },
   "outputs": [],
   "source": [
    "import analyze"
   ]
  },
  {
   "cell_type": "code",
   "execution_count": 11,
   "metadata": {},
   "outputs": [
    {
     "data": {
      "text/html": [
       "\n",
       "    <div class=\"bk-root\">\n",
       "        <a href=\"http://bokeh.pydata.org\" target=\"_blank\" class=\"bk-logo bk-logo-small bk-logo-notebook\"></a>\n",
       "        <span id=\"7c8b11ed-01d1-4cf5-8ce9-8edb1fce78ae\">Loading BokehJS ...</span>\n",
       "    </div>"
      ]
     },
     "metadata": {},
     "output_type": "display_data"
    },
    {
     "data": {
      "application/javascript": [
       "\n",
       "(function(global) {\n",
       "  function now() {\n",
       "    return new Date();\n",
       "  }\n",
       "\n",
       "  var force = true;\n",
       "\n",
       "  if (typeof (window._bokeh_onload_callbacks) === \"undefined\" || force === true) {\n",
       "    window._bokeh_onload_callbacks = [];\n",
       "    window._bokeh_is_loading = undefined;\n",
       "  }\n",
       "\n",
       "\n",
       "  \n",
       "  if (typeof (window._bokeh_timeout) === \"undefined\" || force === true) {\n",
       "    window._bokeh_timeout = Date.now() + 5000;\n",
       "    window._bokeh_failed_load = false;\n",
       "  }\n",
       "\n",
       "  var NB_LOAD_WARNING = {'data': {'text/html':\n",
       "     \"<div style='background-color: #fdd'>\\n\"+\n",
       "     \"<p>\\n\"+\n",
       "     \"BokehJS does not appear to have successfully loaded. If loading BokehJS from CDN, this \\n\"+\n",
       "     \"may be due to a slow or bad network connection. Possible fixes:\\n\"+\n",
       "     \"</p>\\n\"+\n",
       "     \"<ul>\\n\"+\n",
       "     \"<li>re-rerun `output_notebook()` to attempt to load from CDN again, or</li>\\n\"+\n",
       "     \"<li>use INLINE resources instead, as so:</li>\\n\"+\n",
       "     \"</ul>\\n\"+\n",
       "     \"<code>\\n\"+\n",
       "     \"from bokeh.resources import INLINE\\n\"+\n",
       "     \"output_notebook(resources=INLINE)\\n\"+\n",
       "     \"</code>\\n\"+\n",
       "     \"</div>\"}};\n",
       "\n",
       "  function display_loaded() {\n",
       "    if (window.Bokeh !== undefined) {\n",
       "      var el = document.getElementById(\"7c8b11ed-01d1-4cf5-8ce9-8edb1fce78ae\");\n",
       "      el.textContent = \"BokehJS \" + Bokeh.version + \" successfully loaded.\";\n",
       "    } else if (Date.now() < window._bokeh_timeout) {\n",
       "      setTimeout(display_loaded, 100)\n",
       "    }\n",
       "  }\n",
       "\n",
       "  function run_callbacks() {\n",
       "    window._bokeh_onload_callbacks.forEach(function(callback) { callback() });\n",
       "    delete window._bokeh_onload_callbacks\n",
       "    console.info(\"Bokeh: all callbacks have finished\");\n",
       "  }\n",
       "\n",
       "  function load_libs(js_urls, callback) {\n",
       "    window._bokeh_onload_callbacks.push(callback);\n",
       "    if (window._bokeh_is_loading > 0) {\n",
       "      console.log(\"Bokeh: BokehJS is being loaded, scheduling callback at\", now());\n",
       "      return null;\n",
       "    }\n",
       "    if (js_urls == null || js_urls.length === 0) {\n",
       "      run_callbacks();\n",
       "      return null;\n",
       "    }\n",
       "    console.log(\"Bokeh: BokehJS not loaded, scheduling load and callback at\", now());\n",
       "    window._bokeh_is_loading = js_urls.length;\n",
       "    for (var i = 0; i < js_urls.length; i++) {\n",
       "      var url = js_urls[i];\n",
       "      var s = document.createElement('script');\n",
       "      s.src = url;\n",
       "      s.async = false;\n",
       "      s.onreadystatechange = s.onload = function() {\n",
       "        window._bokeh_is_loading--;\n",
       "        if (window._bokeh_is_loading === 0) {\n",
       "          console.log(\"Bokeh: all BokehJS libraries loaded\");\n",
       "          run_callbacks()\n",
       "        }\n",
       "      };\n",
       "      s.onerror = function() {\n",
       "        console.warn(\"failed to load library \" + url);\n",
       "      };\n",
       "      console.log(\"Bokeh: injecting script tag for BokehJS library: \", url);\n",
       "      document.getElementsByTagName(\"head\")[0].appendChild(s);\n",
       "    }\n",
       "  };var element = document.getElementById(\"7c8b11ed-01d1-4cf5-8ce9-8edb1fce78ae\");\n",
       "  if (element == null) {\n",
       "    console.log(\"Bokeh: ERROR: autoload.js configured with elementid '7c8b11ed-01d1-4cf5-8ce9-8edb1fce78ae' but no matching script tag was found. \")\n",
       "    return false;\n",
       "  }\n",
       "\n",
       "  var js_urls = [\"https://cdn.pydata.org/bokeh/release/bokeh-0.12.5.min.js\", \"https://cdn.pydata.org/bokeh/release/bokeh-widgets-0.12.5.min.js\"];\n",
       "\n",
       "  var inline_js = [\n",
       "    function(Bokeh) {\n",
       "      Bokeh.set_log_level(\"info\");\n",
       "    },\n",
       "    \n",
       "    function(Bokeh) {\n",
       "      \n",
       "    },\n",
       "    \n",
       "    function(Bokeh) {\n",
       "      \n",
       "      document.getElementById(\"7c8b11ed-01d1-4cf5-8ce9-8edb1fce78ae\").textContent = \"BokehJS is loading...\";\n",
       "    },\n",
       "    function(Bokeh) {\n",
       "      console.log(\"Bokeh: injecting CSS: https://cdn.pydata.org/bokeh/release/bokeh-0.12.5.min.css\");\n",
       "      Bokeh.embed.inject_css(\"https://cdn.pydata.org/bokeh/release/bokeh-0.12.5.min.css\");\n",
       "      console.log(\"Bokeh: injecting CSS: https://cdn.pydata.org/bokeh/release/bokeh-widgets-0.12.5.min.css\");\n",
       "      Bokeh.embed.inject_css(\"https://cdn.pydata.org/bokeh/release/bokeh-widgets-0.12.5.min.css\");\n",
       "    }\n",
       "  ];\n",
       "\n",
       "  function run_inline_js() {\n",
       "    \n",
       "    if ((window.Bokeh !== undefined) || (force === true)) {\n",
       "      for (var i = 0; i < inline_js.length; i++) {\n",
       "        inline_js[i](window.Bokeh);\n",
       "      }if (force === true) {\n",
       "        display_loaded();\n",
       "      }} else if (Date.now() < window._bokeh_timeout) {\n",
       "      setTimeout(run_inline_js, 100);\n",
       "    } else if (!window._bokeh_failed_load) {\n",
       "      console.log(\"Bokeh: BokehJS failed to load within specified timeout.\");\n",
       "      window._bokeh_failed_load = true;\n",
       "    } else if (force !== true) {\n",
       "      var cell = $(document.getElementById(\"7c8b11ed-01d1-4cf5-8ce9-8edb1fce78ae\")).parents('.cell').data().cell;\n",
       "      cell.output_area.append_execute_result(NB_LOAD_WARNING)\n",
       "    }\n",
       "\n",
       "  }\n",
       "\n",
       "  if (window._bokeh_is_loading === 0) {\n",
       "    console.log(\"Bokeh: BokehJS loaded, going straight to plotting\");\n",
       "    run_inline_js();\n",
       "  } else {\n",
       "    load_libs(js_urls, function() {\n",
       "      console.log(\"Bokeh: BokehJS plotting callback run at\", now());\n",
       "      run_inline_js();\n",
       "    });\n",
       "  }\n",
       "}(this));"
      ]
     },
     "metadata": {},
     "output_type": "display_data"
    },
    {
     "data": {
      "text/html": [
       "\n",
       "    <div class=\"bk-root\">\n",
       "        <a href=\"http://bokeh.pydata.org\" target=\"_blank\" class=\"bk-logo bk-logo-small bk-logo-notebook\"></a>\n",
       "        <span id=\"3737f5c6-18bf-4bae-b761-f7043cd2bee4\">Loading BokehJS ...</span>\n",
       "    </div>"
      ]
     },
     "metadata": {},
     "output_type": "display_data"
    },
    {
     "data": {
      "application/javascript": [
       "\n",
       "(function(global) {\n",
       "  function now() {\n",
       "    return new Date();\n",
       "  }\n",
       "\n",
       "  var force = true;\n",
       "\n",
       "  if (typeof (window._bokeh_onload_callbacks) === \"undefined\" || force === true) {\n",
       "    window._bokeh_onload_callbacks = [];\n",
       "    window._bokeh_is_loading = undefined;\n",
       "  }\n",
       "\n",
       "\n",
       "  \n",
       "  if (typeof (window._bokeh_timeout) === \"undefined\" || force === true) {\n",
       "    window._bokeh_timeout = Date.now() + 5000;\n",
       "    window._bokeh_failed_load = false;\n",
       "  }\n",
       "\n",
       "  var NB_LOAD_WARNING = {'data': {'text/html':\n",
       "     \"<div style='background-color: #fdd'>\\n\"+\n",
       "     \"<p>\\n\"+\n",
       "     \"BokehJS does not appear to have successfully loaded. If loading BokehJS from CDN, this \\n\"+\n",
       "     \"may be due to a slow or bad network connection. Possible fixes:\\n\"+\n",
       "     \"</p>\\n\"+\n",
       "     \"<ul>\\n\"+\n",
       "     \"<li>re-rerun `output_notebook()` to attempt to load from CDN again, or</li>\\n\"+\n",
       "     \"<li>use INLINE resources instead, as so:</li>\\n\"+\n",
       "     \"</ul>\\n\"+\n",
       "     \"<code>\\n\"+\n",
       "     \"from bokeh.resources import INLINE\\n\"+\n",
       "     \"output_notebook(resources=INLINE)\\n\"+\n",
       "     \"</code>\\n\"+\n",
       "     \"</div>\"}};\n",
       "\n",
       "  function display_loaded() {\n",
       "    if (window.Bokeh !== undefined) {\n",
       "      var el = document.getElementById(\"3737f5c6-18bf-4bae-b761-f7043cd2bee4\");\n",
       "      el.textContent = \"BokehJS \" + Bokeh.version + \" successfully loaded.\";\n",
       "    } else if (Date.now() < window._bokeh_timeout) {\n",
       "      setTimeout(display_loaded, 100)\n",
       "    }\n",
       "  }\n",
       "\n",
       "  function run_callbacks() {\n",
       "    window._bokeh_onload_callbacks.forEach(function(callback) { callback() });\n",
       "    delete window._bokeh_onload_callbacks\n",
       "    console.info(\"Bokeh: all callbacks have finished\");\n",
       "  }\n",
       "\n",
       "  function load_libs(js_urls, callback) {\n",
       "    window._bokeh_onload_callbacks.push(callback);\n",
       "    if (window._bokeh_is_loading > 0) {\n",
       "      console.log(\"Bokeh: BokehJS is being loaded, scheduling callback at\", now());\n",
       "      return null;\n",
       "    }\n",
       "    if (js_urls == null || js_urls.length === 0) {\n",
       "      run_callbacks();\n",
       "      return null;\n",
       "    }\n",
       "    console.log(\"Bokeh: BokehJS not loaded, scheduling load and callback at\", now());\n",
       "    window._bokeh_is_loading = js_urls.length;\n",
       "    for (var i = 0; i < js_urls.length; i++) {\n",
       "      var url = js_urls[i];\n",
       "      var s = document.createElement('script');\n",
       "      s.src = url;\n",
       "      s.async = false;\n",
       "      s.onreadystatechange = s.onload = function() {\n",
       "        window._bokeh_is_loading--;\n",
       "        if (window._bokeh_is_loading === 0) {\n",
       "          console.log(\"Bokeh: all BokehJS libraries loaded\");\n",
       "          run_callbacks()\n",
       "        }\n",
       "      };\n",
       "      s.onerror = function() {\n",
       "        console.warn(\"failed to load library \" + url);\n",
       "      };\n",
       "      console.log(\"Bokeh: injecting script tag for BokehJS library: \", url);\n",
       "      document.getElementsByTagName(\"head\")[0].appendChild(s);\n",
       "    }\n",
       "  };var element = document.getElementById(\"3737f5c6-18bf-4bae-b761-f7043cd2bee4\");\n",
       "  if (element == null) {\n",
       "    console.log(\"Bokeh: ERROR: autoload.js configured with elementid '3737f5c6-18bf-4bae-b761-f7043cd2bee4' but no matching script tag was found. \")\n",
       "    return false;\n",
       "  }\n",
       "\n",
       "  var js_urls = [\"https://cdn.pydata.org/bokeh/release/bokeh-0.12.5.min.js\", \"https://cdn.pydata.org/bokeh/release/bokeh-widgets-0.12.5.min.js\"];\n",
       "\n",
       "  var inline_js = [\n",
       "    function(Bokeh) {\n",
       "      Bokeh.set_log_level(\"info\");\n",
       "    },\n",
       "    \n",
       "    function(Bokeh) {\n",
       "      \n",
       "    },\n",
       "    \n",
       "    function(Bokeh) {\n",
       "      \n",
       "      document.getElementById(\"3737f5c6-18bf-4bae-b761-f7043cd2bee4\").textContent = \"BokehJS is loading...\";\n",
       "    },\n",
       "    function(Bokeh) {\n",
       "      console.log(\"Bokeh: injecting CSS: https://cdn.pydata.org/bokeh/release/bokeh-0.12.5.min.css\");\n",
       "      Bokeh.embed.inject_css(\"https://cdn.pydata.org/bokeh/release/bokeh-0.12.5.min.css\");\n",
       "      console.log(\"Bokeh: injecting CSS: https://cdn.pydata.org/bokeh/release/bokeh-widgets-0.12.5.min.css\");\n",
       "      Bokeh.embed.inject_css(\"https://cdn.pydata.org/bokeh/release/bokeh-widgets-0.12.5.min.css\");\n",
       "    }\n",
       "  ];\n",
       "\n",
       "  function run_inline_js() {\n",
       "    \n",
       "    if ((window.Bokeh !== undefined) || (force === true)) {\n",
       "      for (var i = 0; i < inline_js.length; i++) {\n",
       "        inline_js[i](window.Bokeh);\n",
       "      }if (force === true) {\n",
       "        display_loaded();\n",
       "      }} else if (Date.now() < window._bokeh_timeout) {\n",
       "      setTimeout(run_inline_js, 100);\n",
       "    } else if (!window._bokeh_failed_load) {\n",
       "      console.log(\"Bokeh: BokehJS failed to load within specified timeout.\");\n",
       "      window._bokeh_failed_load = true;\n",
       "    } else if (force !== true) {\n",
       "      var cell = $(document.getElementById(\"3737f5c6-18bf-4bae-b761-f7043cd2bee4\")).parents('.cell').data().cell;\n",
       "      cell.output_area.append_execute_result(NB_LOAD_WARNING)\n",
       "    }\n",
       "\n",
       "  }\n",
       "\n",
       "  if (window._bokeh_is_loading === 0) {\n",
       "    console.log(\"Bokeh: BokehJS loaded, going straight to plotting\");\n",
       "    run_inline_js();\n",
       "  } else {\n",
       "    load_libs(js_urls, function() {\n",
       "      console.log(\"Bokeh: BokehJS plotting callback run at\", now());\n",
       "      run_inline_js();\n",
       "    });\n",
       "  }\n",
       "}(this));"
      ]
     },
     "metadata": {},
     "output_type": "display_data"
    },
    {
     "data": {
      "text/html": [
       "\n",
       "\n",
       "    <div class=\"bk-root\">\n",
       "        <div class=\"bk-plotdiv\" id=\"ea7eac77-c58e-4534-baf6-c58b3f7bdb9c\"></div>\n",
       "    </div>\n",
       "<script type=\"text/javascript\">\n",
       "  \n",
       "  (function(global) {\n",
       "    function now() {\n",
       "      return new Date();\n",
       "    }\n",
       "  \n",
       "    var force = false;\n",
       "  \n",
       "    if (typeof (window._bokeh_onload_callbacks) === \"undefined\" || force === true) {\n",
       "      window._bokeh_onload_callbacks = [];\n",
       "      window._bokeh_is_loading = undefined;\n",
       "    }\n",
       "  \n",
       "  \n",
       "    \n",
       "    if (typeof (window._bokeh_timeout) === \"undefined\" || force === true) {\n",
       "      window._bokeh_timeout = Date.now() + 0;\n",
       "      window._bokeh_failed_load = false;\n",
       "    }\n",
       "  \n",
       "    var NB_LOAD_WARNING = {'data': {'text/html':\n",
       "       \"<div style='background-color: #fdd'>\\n\"+\n",
       "       \"<p>\\n\"+\n",
       "       \"BokehJS does not appear to have successfully loaded. If loading BokehJS from CDN, this \\n\"+\n",
       "       \"may be due to a slow or bad network connection. Possible fixes:\\n\"+\n",
       "       \"</p>\\n\"+\n",
       "       \"<ul>\\n\"+\n",
       "       \"<li>re-rerun `output_notebook()` to attempt to load from CDN again, or</li>\\n\"+\n",
       "       \"<li>use INLINE resources instead, as so:</li>\\n\"+\n",
       "       \"</ul>\\n\"+\n",
       "       \"<code>\\n\"+\n",
       "       \"from bokeh.resources import INLINE\\n\"+\n",
       "       \"output_notebook(resources=INLINE)\\n\"+\n",
       "       \"</code>\\n\"+\n",
       "       \"</div>\"}};\n",
       "  \n",
       "    function display_loaded() {\n",
       "      if (window.Bokeh !== undefined) {\n",
       "        var el = document.getElementById(\"ea7eac77-c58e-4534-baf6-c58b3f7bdb9c\");\n",
       "        el.textContent = \"BokehJS \" + Bokeh.version + \" successfully loaded.\";\n",
       "      } else if (Date.now() < window._bokeh_timeout) {\n",
       "        setTimeout(display_loaded, 100)\n",
       "      }\n",
       "    }\n",
       "  \n",
       "    function run_callbacks() {\n",
       "      window._bokeh_onload_callbacks.forEach(function(callback) { callback() });\n",
       "      delete window._bokeh_onload_callbacks\n",
       "      console.info(\"Bokeh: all callbacks have finished\");\n",
       "    }\n",
       "  \n",
       "    function load_libs(js_urls, callback) {\n",
       "      window._bokeh_onload_callbacks.push(callback);\n",
       "      if (window._bokeh_is_loading > 0) {\n",
       "        console.log(\"Bokeh: BokehJS is being loaded, scheduling callback at\", now());\n",
       "        return null;\n",
       "      }\n",
       "      if (js_urls == null || js_urls.length === 0) {\n",
       "        run_callbacks();\n",
       "        return null;\n",
       "      }\n",
       "      console.log(\"Bokeh: BokehJS not loaded, scheduling load and callback at\", now());\n",
       "      window._bokeh_is_loading = js_urls.length;\n",
       "      for (var i = 0; i < js_urls.length; i++) {\n",
       "        var url = js_urls[i];\n",
       "        var s = document.createElement('script');\n",
       "        s.src = url;\n",
       "        s.async = false;\n",
       "        s.onreadystatechange = s.onload = function() {\n",
       "          window._bokeh_is_loading--;\n",
       "          if (window._bokeh_is_loading === 0) {\n",
       "            console.log(\"Bokeh: all BokehJS libraries loaded\");\n",
       "            run_callbacks()\n",
       "          }\n",
       "        };\n",
       "        s.onerror = function() {\n",
       "          console.warn(\"failed to load library \" + url);\n",
       "        };\n",
       "        console.log(\"Bokeh: injecting script tag for BokehJS library: \", url);\n",
       "        document.getElementsByTagName(\"head\")[0].appendChild(s);\n",
       "      }\n",
       "    };var element = document.getElementById(\"ea7eac77-c58e-4534-baf6-c58b3f7bdb9c\");\n",
       "    if (element == null) {\n",
       "      console.log(\"Bokeh: ERROR: autoload.js configured with elementid 'ea7eac77-c58e-4534-baf6-c58b3f7bdb9c' but no matching script tag was found. \")\n",
       "      return false;\n",
       "    }\n",
       "  \n",
       "    var js_urls = [];\n",
       "  \n",
       "    var inline_js = [\n",
       "      function(Bokeh) {\n",
       "        (function() {\n",
       "          var fn = function() {\n",
       "            var docs_json = {\"d90d41d7-aaa1-4d54-bb4f-b8200b017389\":{\"roots\":{\"references\":[{\"attributes\":{\"plot\":{\"id\":\"05b7f654-ae19-4724-9be5-17f68582c847\",\"subtype\":\"Figure\",\"type\":\"Plot\"}},\"id\":\"3d2e99a2-5994-4522-816b-428b229e0d25\",\"type\":\"ResetTool\"},{\"attributes\":{},\"id\":\"829b7cde-3c60-4cba-a819-94552d08d7bc\",\"type\":\"BasicTicker\"},{\"attributes\":{\"active_drag\":\"auto\",\"active_scroll\":\"auto\",\"active_tap\":\"auto\",\"tools\":[{\"id\":\"71a1cb58-4a47-4851-bf40-f86d24b6ba97\",\"type\":\"HoverTool\"},{\"id\":\"7cb2336d-5059-4082-b96e-d7ebedce008a\",\"type\":\"BoxZoomTool\"},{\"id\":\"3d2e99a2-5994-4522-816b-428b229e0d25\",\"type\":\"ResetTool\"}]},\"id\":\"e145f7de-f8b1-4a55-85c7-9b9ca906fb40\",\"type\":\"Toolbar\"},{\"attributes\":{\"plot\":null,\"text\":\"\"},\"id\":\"a69a639d-843b-4430-93cc-eb83ff54732e\",\"type\":\"Title\"},{\"attributes\":{},\"id\":\"4f9acbc5-4cdc-41ca-bf14-39642c12f243\",\"type\":\"BasicTicker\"},{\"attributes\":{\"fill_color\":{\"value\":\"yellow\"},\"line_color\":{\"value\":\"yellow\"},\"x\":{\"field\":\"x\"},\"y\":{\"field\":\"y\"}},\"id\":\"03a4948c-95ac-44e7-8c68-ef322f434cd5\",\"type\":\"Circle\"},{\"attributes\":{\"dimension\":1,\"plot\":{\"id\":\"05b7f654-ae19-4724-9be5-17f68582c847\",\"subtype\":\"Figure\",\"type\":\"Plot\"},\"ticker\":{\"id\":\"829b7cde-3c60-4cba-a819-94552d08d7bc\",\"type\":\"BasicTicker\"}},\"id\":\"50783665-4a9c-4ba7-8651-301e2dd1289f\",\"type\":\"Grid\"},{\"attributes\":{\"axis_label\":\"Standardized Residuals\",\"formatter\":{\"id\":\"ec63147d-ed6b-468d-8660-463e872cc245\",\"type\":\"BasicTickFormatter\"},\"plot\":{\"id\":\"05b7f654-ae19-4724-9be5-17f68582c847\",\"subtype\":\"Figure\",\"type\":\"Plot\"},\"ticker\":{\"id\":\"829b7cde-3c60-4cba-a819-94552d08d7bc\",\"type\":\"BasicTicker\"}},\"id\":\"f7648684-e4c4-48bc-8692-8bf1e7d2de0e\",\"type\":\"LinearAxis\"},{\"attributes\":{\"bottom_units\":\"screen\",\"fill_alpha\":{\"value\":0.5},\"fill_color\":{\"value\":\"lightgrey\"},\"left_units\":\"screen\",\"level\":\"overlay\",\"line_alpha\":{\"value\":1.0},\"line_color\":{\"value\":\"black\"},\"line_dash\":[4,4],\"line_width\":{\"value\":2},\"plot\":null,\"render_mode\":\"css\",\"right_units\":\"screen\",\"top_units\":\"screen\"},\"id\":\"3ad81599-e1ed-4698-8c91-5edd4ff0c2b1\",\"type\":\"BoxAnnotation\"},{\"attributes\":{\"plot\":{\"id\":\"05b7f654-ae19-4724-9be5-17f68582c847\",\"subtype\":\"Figure\",\"type\":\"Plot\"},\"ticker\":{\"id\":\"4f9acbc5-4cdc-41ca-bf14-39642c12f243\",\"type\":\"BasicTicker\"}},\"id\":\"e367e9b7-07c4-489b-b6e6-37a9f42378a2\",\"type\":\"Grid\"},{\"attributes\":{\"callback\":null,\"column_names\":[\"y\",\"x\",\"label\"],\"data\":{\"label\":[1,2,3,4,5,6,7,8,9,10,11,12,13,14,15,16,17,18,19,20,21,22,23,24,25,26,27,28,29,30,31,32,33,34,35,36,37,38,39,40,41,42,43,44,45,46,47,48,49,50,51,52,53,54,55,56,57,58,59,60,61,62,63,64,65,66,67,68,69,70,71,72,73,74,75,76,77,78,79,80,81,82,83,84,85,86,87,88,89,90,91,92,93,94,95,96,97,98,99,100,101,102,103,104,105,106,107,108,109,110,111,112,113,114,115,116,117,118,119,120,121,122,123,124,125,126,127,128,129,130,131,132,133,134,135,136,137,138,139,140,141,142,143,144,145,146,147,148,149,150,151,152,153,154,155,156,157,158,159,160,161,162,163,164,165,166,167,168,169,170,171,172,173,174,175,176,177,178,179,180,181,182,183,184,185,186,187,188,189,190,191,192,193,194,195,196,197,198,199,200,201,202,203,204,205,206,207,208,209,210,211,212,213,214,215,216,217,218,219,220,221,222,223,224,225,226,227,228,229,230,231,232,233,234,235,236,237,238,239,240,241,242,243,244,245,246,247,248,249,250,251,252,253,254,255,256,257,258,259,260,261,262,263,264,265,266,267,268,269,270,271,272,273,274,275,276,277,278,279,280,281,282,283,284,285,286,287,288,289,290,291,292,293,294,295,296,297,298,299,300,301,302,303,304,305,306,307,308,309,310,311,312,313,314,315,316,317,318,319,320,321,322,323,324,325,326,327,328,329,330,331,332,333,334,335,336,337,338,339,340,341,342,343,344,345,346,347,348,349,350,351,352,353,354],\"x\":{\"__ndarray__\":\"WcbnxCLmmT/z4hSI96xHPxo6pDIu5hA/Puqbr82fcz+jXKnNozmzPqRTkANdG/o+hi67BIcPYj7LkNN56dYbPxU30aW0B8w+k+k4XsTfFT8pTEpybqISP17owMT/ryY/rqvs60L0kj+a0toAIJg7P0C9CmsZ/TA/xL4VDWYwQT/UPwT00OxHPxAPVwBfN14/T0Uac06dOz9pI3n+oErzPqO27jmTUj0/5dBre0gygz8l/syv9F0nP1BGL9XOL20/t9wXwZTlDD+0T8weDDJlP/Kx44F5W1w/ZFGSmkRUUD/L5v/mtdkyP/a0Ru4LyXI/HlmeaiYgAz+tNPxvGPI+P/3TyKG3lEI/QgvrjgP9oT6sUzgRJ4lBPwdJYnICGFI/FepT8T2Ylj9Pyh3URlRRP1wcRzGJWNk+6S9bk+ghXj/tRQVv5/czP8EcHmTFgEY/JnOgORqyYD+sOy7VJ75hP0pqjmuzHWE/ThpKHgb/Pj9/vd4UEgtXP0Zmee9ww38/iy1TfdI+bT/5U5rrkVViPzDXv7RRSHU/JJpLP7x9wT54YMmpBUpRP8rrnepOy2g/p2YuDRApHD/BpDyeKdDJPgLzmxBDPiA/ouYiqwVXCz9SsHcd5g4PP7h2XIQ823Q/SdHoKvixdD83f5YNoRN1P2S1RvLFuEM/KSNjszW/Yj/mdLHCXYv3PgTYohbA6xA/txw/BMqLZT+dW6IcTkVSPw+T1BLEQGg/KnIfArwmVT93+1tOflryPpcJ2PYYDvA+x+lcPct1Gz9rmsKUCBgxP8iQqnXAgiI/fSHT4u1kZz/I3PnnmcZSP80H7kXh9RQ/8ULLSTH9Yz7zaiYyFzdFP9ZqTdWXMDY/NO87QHxzaz8Mhk5lIAIxP5w/melwtkg/9sAaBxSqwj5yORLd42fEPgJB4cCFuBA/mYoTQQ2sMj+JJVWq0DSzP+DbfhjiUUY/TdWlQHhWPD+lM9H19T0tP8ZzwP+4OnE/S6MOg2Z7aj8L9tD5+C12P7UGflb4kT8/d/c7KjDbDT+qJexBXxHVPgxsFxtWh7E/qm1w3v1Wcj8gNy4LhoFdP9hbZ2ltxFo/D6AS5nCjRz+zP0lm1b0cP1j8t3AtcWA/WLCn+CKAJj/YsSgzn+NSP2AIpB04MnQ/n8VNpNMQOj9Ti2pQff41Pw+rfVESV2Y/JhWDiutVDz9nNMT/alRRPwk03URZ5QA/r8fVcMCHqj6SoPDAHke0PyJ7TUiHXSU/2RAQog/2Fz/3Len2pcPiPqpEnmbqBaU+kGNdZeM5QD+8nSXK7DbOPkbG6VMGbB4/JBEgzuh+Oj+J3mvAjDs6P9V9Yiwmrfw+/3fHUeDD+z5G4Wq4UjklPzgOrG73qHE/OYSl2xpmSz9QAJixlE1yPy7x2jjpOOc+tmfF0J/c2T6Bn0EJ8zfxPo04FSBcw7Q/F7d8+3F/iT9prk3DYqtXPzaRWs7UpW4/KR4lgKkZED/BqWRd2CKdPiBGDbKZ02M/0A5/D4AF2T4jJAarfPrYPnDeemrIkEw/2Y3sfHVPoz+bYU+uMRM0PxznET2pyW0/xoHqIbooFj86HLC1PcxsP2IBNfro8BQ/jjBcrhlVNz+g/YQc4NO4Puf9Q/MwagE/lG3ZwEHCCT95J/PxZH1PP0w/Hh01qrA/52y4UYvHQz/Jzb+khXuYP1vEPISdSKI/xF/c2CeRIj8f2/KxIdBcPzNO0vt05fA+8d3x/hm5Gj8JHSKtkbcXPyScTC4eFYw/LF190EVYSz+Ket37+9RQP7K5lKTakeg+LxYd9OIYYj+aBMVs15AnP0kFH076PRk/iirwZRjMIj9Zao1bq2lUP4oNBWoB2xA/y+w0+sxGHT8BtBnjssKMP5yRcBCW10s/dVSmkj8tTz9Xx+G9BiY2Pwxkmt9A/8Y+p1/eKpyrSD+U2vbvxaPnPvu8Ueh7oXc/q2ZSyhYhWT4nKN2j/JpkP1Bu02xXLl4/38VgP/WIhT9g7SiQt4o6Pxr+eBDZU3M/jAtwIXm2AD7ThVo8fKs+P2WCKUg6QVU/M6K9R69Csz9cQuK9P3IUPydd++qUyCo/1ezquniATj9tWqPtmcjhPjf/L+z3F18/nrLQtvP0WD/SwDymoCraPqLjex2er2Q/0nM5OaVfAz9jqvuF2O1QP7FeWj7AjIY/iXm/HOBv2D5A+c/h334HP4Ns3k4bmy4/6+1b5ZKl/j5O3s9PzTosP0BJpGyLGjU/FMEiMeVDEz/Z0FX/LewnP8Kwl9Ri1WY/pkeA7QlNYz/r5RaQZEp+P+b53fF0JU0/Xs/4tYDGNj+FEgb48u1xP0Lm5QnYyDc/BJPPf/ekcj8tPLiC4kAUP5pUlVrg1C8/+XZOVg/bBT/9jdeeVF6yPiISlT8O4V4/nlw32Ux/aT9iCSmJnLdxP+yp+shrock/yxVKLxl1cz+lOQp+L/mGPyFimokKFWM/fpWoE2SpTD9WroL+P3QfP+g0ij5jnCE/69QMWvhPuD/3a5mWI01+P2wBQLYv03I/C3iK3BuQWj8+CANIdgLOPpXZAq5q9zc/c3ezHHKSYT9TMWc8L7CsPvIOAHPWg0Q/ocHRxydvgz+p/mLPT5VAP1r2uHQ3MYw/9Qy16Gyacj+FWmrV/FlSPyzTY3fsxMc+Q0m4yJtEBD/OLl4exqGVP+BDP2rSMGw/JnvvcNekFD98yYhBqfloPwKkSRT4uEk/uRhesH4e0T4JHLEtClQCPw4EKkEY1F8/tv93c+vxhz8H1US+Q4uoPsY0Ps1nWoY/uhPZkDZQAT8DHIGBu5xaP/R8x/S47HQ/766O9zm7Pj86yKkLf6RyPzMBQB9QaD4/IS/Opx8ZcT8lXN4AA9ddP5G/7s45xQ0/jrnzzF10jz81QKNXps4hP2rNDzY7eBI/U0eJa/f4Xz+wuLxQtfZAP3AUozNDJUI/j55E4NebHz942beMPEuEP5bfb6UfJlY/+876HwppOj9afal5vPOzPrryx0R8jRo/xG6Tyt20Xz+wX9090WvePqnz8vdPi/I+D9c4nP2iZD+2Zfa3HUgyP135LmTef0Q/4/jqFLsj/z7gwY9ygl88P4uOKeKdSjo/MNzjzHJEFz/CQcUt67B3P8ugh0O0wxY/rKnJ+3PDMT93PKZBipezP4IevU9yBZw/3cpccIljQD9qnYsPaMAyP8Z+mpdMNnQ/djQUb+LNUj/+inAD8lRsP4bVq/dXxhw/8Ms1CQeMWT8/6XGPC0pYP/Om1iFws00/v+5nxIKXXj/2lgwoOezqPs2w5tcMlkc/ehYLb34m1j4MqSgHm/uKPyn8dECpn2M/H18OYJ6zhD+n4RdiQTRRP+wUiV5HLxY/fTMau6P6LT+EMJrJO5xHP74oaiBkRHI/0vfsrJvD+T79THF+yMBRP2j5wjS+MFI/5tCjqCkgGD9F2MZM7MQyPwD8pBoKpjk/+GkrkAo9dD/L/p91G4M6PyDTyVEt1Zo+HR1Mhh/e9j6SHxPFGtPyPlNY1wYffgo/yDKFM7C5Rj/7SbWYrypJP/a6Hata2IA/d2UjHdHDCz+PXzPdbiEYP655BXlP/x0/u4sJAhJfbD+H1FpSwhFyPzPuWz4Lgw0/igupGqBYIz+btwy5RRRCP3Mmh9ciuW4/WnTgWz0YMT9QTL3P+PxHP7SQ4NUPhVg/PCalwArxdD60zXpZ4b5UPyRxZIRXKYo/ueVNBTEK1z6vfmavTNoGP4hMT/6KFVU/L1dIKR3aUz8Banc5wxEyP12EA/sC87I+\",\"dtype\":\"float64\",\"shape\":[354]},\"y\":{\"__ndarray__\":\"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\",\"dtype\":\"float64\",\"shape\":[354]}}},\"id\":\"a0d0b281-d47c-4063-a6c6-5e277e72e66f\",\"type\":\"ColumnDataSource\"},{\"attributes\":{\"formatter\":{\"id\":\"b66a1793-3153-4343-862a-ca3890fbd902\",\"type\":\"BasicTickFormatter\"},\"plot\":{\"id\":\"05b7f654-ae19-4724-9be5-17f68582c847\",\"subtype\":\"Figure\",\"type\":\"Plot\"},\"ticker\":{\"id\":\"4f9acbc5-4cdc-41ca-bf14-39642c12f243\",\"type\":\"BasicTicker\"}},\"id\":\"4c1dbfb8-5ff5-404b-be5d-af6925c9c6a6\",\"type\":\"LinearAxis\"},{\"attributes\":{\"fill_alpha\":{\"value\":0.1},\"fill_color\":{\"value\":\"#1f77b4\"},\"line_alpha\":{\"value\":0.1},\"line_color\":{\"value\":\"#1f77b4\"},\"x\":{\"field\":\"x\"},\"y\":{\"field\":\"y\"}},\"id\":\"3a34b47a-7ee6-4f0b-a006-c287936c1468\",\"type\":\"Circle\"},{\"attributes\":{},\"id\":\"b66a1793-3153-4343-862a-ca3890fbd902\",\"type\":\"BasicTickFormatter\"},{\"attributes\":{\"callback\":null,\"plot\":{\"id\":\"05b7f654-ae19-4724-9be5-17f68582c847\",\"subtype\":\"Figure\",\"type\":\"Plot\"},\"tooltips\":[[\"entry#\",\"@label\"]]},\"id\":\"71a1cb58-4a47-4851-bf40-f86d24b6ba97\",\"type\":\"HoverTool\"},{\"attributes\":{},\"id\":\"5ea1a441-0862-476b-8ff0-71318bcff5e6\",\"type\":\"ToolEvents\"},{\"attributes\":{\"data_source\":{\"id\":\"78377c93-b77b-44f1-a0c2-a3f1af5a2479\",\"type\":\"ColumnDataSource\"},\"glyph\":{\"id\":\"03a4948c-95ac-44e7-8c68-ef322f434cd5\",\"type\":\"Circle\"},\"hover_glyph\":null,\"muted_glyph\":null,\"nonselection_glyph\":{\"id\":\"3a34b47a-7ee6-4f0b-a006-c287936c1468\",\"type\":\"Circle\"},\"selection_glyph\":null},\"id\":\"24121c5e-16a5-446c-84d9-bed6092223a9\",\"type\":\"GlyphRenderer\"},{\"attributes\":{\"fill_alpha\":{\"value\":0.1},\"fill_color\":{\"value\":\"#1f77b4\"},\"line_alpha\":{\"value\":0.1},\"line_color\":{\"value\":\"#1f77b4\"},\"x\":{\"field\":\"x\"},\"y\":{\"field\":\"y\"}},\"id\":\"06bf212f-7a18-4341-874b-3978f2c2c973\",\"type\":\"Circle\"},{\"attributes\":{\"callback\":null},\"id\":\"144561f6-a365-46a3-9fb6-f646064f7162\",\"type\":\"DataRange1d\"},{\"attributes\":{\"callback\":null,\"column_names\":[\"y\",\"x\",\"label\"],\"data\":{\"label\":[1,2,3,4,5,6,7,8,9,10,11,12,13,14,15,16,17,18,19,20,21,22,23,24,25,26,27,28,29,30,31,32,33,34,35,36,37,38,39,40,41,42,43,44,45,46,47,48,49,50,51,52,53,54,55,56,57,58,59,60,61,62,63,64,65,66,67,68,69,70,71,72,73,74,75,76,77,78,79,80,81,82,83,84,85,86,87,88,89,90,91,92,93,94,95,96,97,98,99,100,101,102,103,104,105,106,107,108,109,110,111,112,113,114,115,116,117,118,119,120,121,122,123,124,125,126,127,128,129,130,131,132,133,134,135,136,137,138,139,140,141,142,143,144,145,146,147,148,149,150,151,152,153,154,155,156,157,158,159,160,161,162,163,164,165,166,167,168,169,170,171,172,173,174,175,176,177,178,179,180,181,182,183,184,185,186,187,188,189,190,191,192,193,194,195,196,197,198,199,200,201,202,203,204,205,206,207,208,209,210,211,212,213,214,215,216,217,218,219,220,221,222,223,224,225,226,227,228,229,230,231,232,233,234,235,236,237,238,239,240,241,242,243,244,245,246,247,248,249,250,251,252,253,254,255,256,257,258,259,260,261,262,263,264,265,266,267,268,269,270,271,272,273,274,275,276,277,278,279,280,281,282,283,284,285,286,287,288,289,290,291,292,293,294,295,296,297,298,299,300,301,302,303,304,305,306,307,308,309,310,311,312,313,314,315,316,317,318,319,320,321,322,323,324,325,326,327,328,329,330,331,332,333,334,335,336,337,338,339,340,341,342,343,344,345,346,347,348,349,350,351,352,353,354],\"x\":{\"__ndarray__\":\"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\",\"dtype\":\"float64\",\"shape\":[354]},\"y\":{\"__ndarray__\":\"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\",\"dtype\":\"float64\",\"shape\":[354]}}},\"id\":\"78377c93-b77b-44f1-a0c2-a3f1af5a2479\",\"type\":\"ColumnDataSource\"},{\"attributes\":{\"below\":[{\"id\":\"4c1dbfb8-5ff5-404b-be5d-af6925c9c6a6\",\"type\":\"LinearAxis\"}],\"left\":[{\"id\":\"f7648684-e4c4-48bc-8692-8bf1e7d2de0e\",\"type\":\"LinearAxis\"}],\"plot_height\":500,\"plot_width\":500,\"renderers\":[{\"id\":\"4c1dbfb8-5ff5-404b-be5d-af6925c9c6a6\",\"type\":\"LinearAxis\"},{\"id\":\"e367e9b7-07c4-489b-b6e6-37a9f42378a2\",\"type\":\"Grid\"},{\"id\":\"f7648684-e4c4-48bc-8692-8bf1e7d2de0e\",\"type\":\"LinearAxis\"},{\"id\":\"50783665-4a9c-4ba7-8651-301e2dd1289f\",\"type\":\"Grid\"},{\"id\":\"3ad81599-e1ed-4698-8c91-5edd4ff0c2b1\",\"type\":\"BoxAnnotation\"},{\"id\":\"e73d6892-dfb1-40e9-a34b-b834d4708c7f\",\"type\":\"GlyphRenderer\"},{\"id\":\"24121c5e-16a5-446c-84d9-bed6092223a9\",\"type\":\"GlyphRenderer\"}],\"title\":{\"id\":\"a69a639d-843b-4430-93cc-eb83ff54732e\",\"type\":\"Title\"},\"tool_events\":{\"id\":\"5ea1a441-0862-476b-8ff0-71318bcff5e6\",\"type\":\"ToolEvents\"},\"toolbar\":{\"id\":\"e145f7de-f8b1-4a55-85c7-9b9ca906fb40\",\"type\":\"Toolbar\"},\"x_range\":{\"id\":\"da1d9c5a-2c89-4ad2-a058-054d2821b0ef\",\"type\":\"DataRange1d\"},\"y_range\":{\"id\":\"144561f6-a365-46a3-9fb6-f646064f7162\",\"type\":\"DataRange1d\"}},\"id\":\"05b7f654-ae19-4724-9be5-17f68582c847\",\"subtype\":\"Figure\",\"type\":\"Plot\"},{\"attributes\":{\"callback\":null},\"id\":\"da1d9c5a-2c89-4ad2-a058-054d2821b0ef\",\"type\":\"DataRange1d\"},{\"attributes\":{\"overlay\":{\"id\":\"3ad81599-e1ed-4698-8c91-5edd4ff0c2b1\",\"type\":\"BoxAnnotation\"},\"plot\":{\"id\":\"05b7f654-ae19-4724-9be5-17f68582c847\",\"subtype\":\"Figure\",\"type\":\"Plot\"}},\"id\":\"7cb2336d-5059-4082-b96e-d7ebedce008a\",\"type\":\"BoxZoomTool\"},{\"attributes\":{\"fill_color\":{\"value\":\"blue\"},\"line_color\":{\"value\":\"blue\"},\"x\":{\"field\":\"x\"},\"y\":{\"field\":\"y\"}},\"id\":\"1b95e34e-954c-494c-838b-243c73e10301\",\"type\":\"Circle\"},{\"attributes\":{},\"id\":\"ec63147d-ed6b-468d-8660-463e872cc245\",\"type\":\"BasicTickFormatter\"},{\"attributes\":{\"data_source\":{\"id\":\"a0d0b281-d47c-4063-a6c6-5e277e72e66f\",\"type\":\"ColumnDataSource\"},\"glyph\":{\"id\":\"1b95e34e-954c-494c-838b-243c73e10301\",\"type\":\"Circle\"},\"hover_glyph\":null,\"muted_glyph\":null,\"nonselection_glyph\":{\"id\":\"06bf212f-7a18-4341-874b-3978f2c2c973\",\"type\":\"Circle\"},\"selection_glyph\":null},\"id\":\"e73d6892-dfb1-40e9-a34b-b834d4708c7f\",\"type\":\"GlyphRenderer\"}],\"root_ids\":[\"05b7f654-ae19-4724-9be5-17f68582c847\"]},\"title\":\"Bokeh Application\",\"version\":\"0.12.5\"}};\n",
       "            var render_items = [{\"docid\":\"d90d41d7-aaa1-4d54-bb4f-b8200b017389\",\"elementid\":\"ea7eac77-c58e-4534-baf6-c58b3f7bdb9c\",\"modelid\":\"05b7f654-ae19-4724-9be5-17f68582c847\"}];\n",
       "            \n",
       "            Bokeh.embed.embed_items(docs_json, render_items);\n",
       "          };\n",
       "          if (document.readyState != \"loading\") fn();\n",
       "          else document.addEventListener(\"DOMContentLoaded\", fn);\n",
       "        })();\n",
       "      },\n",
       "      function(Bokeh) {\n",
       "      }\n",
       "    ];\n",
       "  \n",
       "    function run_inline_js() {\n",
       "      \n",
       "      if ((window.Bokeh !== undefined) || (force === true)) {\n",
       "        for (var i = 0; i < inline_js.length; i++) {\n",
       "          inline_js[i](window.Bokeh);\n",
       "        }if (force === true) {\n",
       "          display_loaded();\n",
       "        }} else if (Date.now() < window._bokeh_timeout) {\n",
       "        setTimeout(run_inline_js, 100);\n",
       "      } else if (!window._bokeh_failed_load) {\n",
       "        console.log(\"Bokeh: BokehJS failed to load within specified timeout.\");\n",
       "        window._bokeh_failed_load = true;\n",
       "      } else if (force !== true) {\n",
       "        var cell = $(document.getElementById(\"ea7eac77-c58e-4534-baf6-c58b3f7bdb9c\")).parents('.cell').data().cell;\n",
       "        cell.output_area.append_execute_result(NB_LOAD_WARNING)\n",
       "      }\n",
       "  \n",
       "    }\n",
       "  \n",
       "    if (window._bokeh_is_loading === 0) {\n",
       "      console.log(\"Bokeh: BokehJS loaded, going straight to plotting\");\n",
       "      run_inline_js();\n",
       "    } else {\n",
       "      load_libs(js_urls, function() {\n",
       "        console.log(\"Bokeh: BokehJS plotting callback run at\", now());\n",
       "        run_inline_js();\n",
       "      });\n",
       "    }\n",
       "  }(this));\n",
       "</script>"
      ]
     },
     "metadata": {},
     "output_type": "display_data"
    }
   ],
   "source": [
    "an = analyze.analysis(X_train,y_train,slr)\n",
    "an.Leverage(interact=True)"
   ]
  },
  {
   "cell_type": "code",
   "execution_count": 15,
   "metadata": {},
   "outputs": [
    {
     "data": {
      "image/png": "[encoded data removed]",
      "text/plain": [
       "<matplotlib.figure.Figure at 0x1090f9e10>"
      ]
     },
     "metadata": {},
     "output_type": "display_data"
    }
   ],
   "source": [
    "plt.scatter(y_train_pred, y_train_pred-y_train, c=\"blue\",marker=\"o\",label=\"Training data\")\n",
    "plt.scatter(y_test_pred,y_test_pred-y_test,c=\"lightgreen\",marker=\"s\",label=\"Test data\")\n",
    "plt.xlabel(\"Predicted values\")\n",
    "plt.ylabel(\"Residuals\")\n",
    "plt.legend(loc=\"upper left\")\n",
    "plt.hlines(y=0,xmin=-10,xmax=50,lw=2,color=\"red\")\n",
    "plt.xlim([-10,50])\n",
    "plt.show()"
   ]
  },
  {
   "cell_type": "code",
   "execution_count": 17,
   "metadata": {},
   "outputs": [
    {
     "name": "stdout",
     "output_type": "stream",
     "text": [
      "MSE train: 20.200, test: 25.843\n"
     ]
    }
   ],
   "source": [
    "print(\"MSE train: %.3f, test: %.3f\"%(mean_squared_error(y_train,y_train_pred),\n",
    "                                    mean_squared_error(y_test,y_test_pred)))"
   ]
  },
  {
   "cell_type": "code",
   "execution_count": 19,
   "metadata": {},
   "outputs": [
    {
     "name": "stdout",
     "output_type": "stream",
     "text": [
      "R^2 train: 0.762, test 0.690\n"
     ]
    }
   ],
   "source": [
    "print(\"R^2 train: %.3f, test %.3f\"%(r2_score(y_train,y_train_pred),r2_score(y_test,y_test_pred)))"
   ]
  },
  {
   "cell_type": "code",
   "execution_count": 21,
   "metadata": {
    "collapsed": true
   },
   "outputs": [],
   "source": [
    "X = df[[\"LSTAT\"]].values\n",
    "y = df[[\"MEDV\"]].values\n",
    "regr = LinearRegression()"
   ]
  },
  {
   "cell_type": "code",
   "execution_count": 22,
   "metadata": {
    "collapsed": true
   },
   "outputs": [],
   "source": [
    "quadratic = PolynomialFeatures(degree=2)\n",
    "cubic = PolynomialFeatures(degree=3)\n",
    "X_quad = quadratic.fit_transform(X)\n",
    "X_cubic = cubic.fit_transform(X)"
   ]
  },
  {
   "cell_type": "code",
   "execution_count": 24,
   "metadata": {
    "collapsed": true
   },
   "outputs": [],
   "source": [
    "X_fit = np.arange(X.min(), X.max(),1)[:,np.newaxis]\n",
    "regr = regr.fit(X,y)\n",
    "y_lin_fit = regr.predict(X_fit)\n",
    "linear_r2 = r2_score(y,regr.predict(X))"
   ]
  },
  {
   "cell_type": "code",
   "execution_count": 25,
   "metadata": {
    "collapsed": true
   },
   "outputs": [],
   "source": [
    "regr = regr.fit(X_quad,y)\n",
    "y_quad_fit = regr.predict(quadratic.fit_transform(X_fit))\n",
    "quadratic_r2 = r2_score(y,regr.predict(X_quad))"
   ]
  },
  {
   "cell_type": "code",
   "execution_count": 27,
   "metadata": {
    "collapsed": true
   },
   "outputs": [],
   "source": [
    "regr = regr.fit(X_cubic,y)\n",
    "y_cubic_fit = regr.predict(cubic.fit_transform(X_fit))\n",
    "cubic_r2 = r2_score(y,regr.predict(X_cubic))"
   ]
  },
  {
   "cell_type": "code",
   "execution_count": 28,
   "metadata": {},
   "outputs": [
    {
     "data": {
      "image/png": "[encoded data removed]",
      "text/plain": [
       "<matplotlib.figure.Figure at 0x10927c810>"
      ]
     },
     "metadata": {},
     "output_type": "display_data"
    }
   ],
   "source": [
    "plt.scatter(X,y,label=\"training points\",color=\"lightgray\")\n",
    "plt.plot(X_fit,y_lin_fit,label=\"linear (d=1), $R^2=%.2f$\"% linear_r2,color=\"blue\",\n",
    "         lw=2,linestyle=\":\")\n",
    "plt.plot(X_fit,y_quad_fit,label=\"quadratic (d=2), $R^2=%.2f$\"% quadratic_r2,color=\"red\",\n",
    "         lw=2,linestyle=\"-\")\n",
    "plt.plot(X_fit,y_cubic_fit,label=\"cubic (d=3), $R^2=%.2f$\"% cubic_r2,color=\"green\",\n",
    "         lw=2,linestyle=\"--\")\n",
    "plt.xlabel(\"% lower status of population [LSTAT]\")\n",
    "plt.ylabel(\"Price in $1000's [MEDV]\")\n",
    "plt.legend(loc=\"upper right\")\n",
    "plt.show()\n"
   ]
  },
  {
   "cell_type": "code",
   "execution_count": 30,
   "metadata": {
    "collapsed": true
   },
   "outputs": [],
   "source": [
    "X = df[[\"LSTAT\"]].values\n",
    "y = df[[\"MEDV\"]].values\n",
    "tree = DecisionTreeRegressor(max_depth=3)\n",
    "tree.fit(X,y)\n",
    "sort_idx = X.flatten().argsort()\n"
   ]
  },
  {
   "cell_type": "code",
   "execution_count": 32,
   "metadata": {},
   "outputs": [
    {
     "name": "stdout",
     "output_type": "stream",
     "text": [
      "MSE train: 1.642, test: 11.052\n",
      "R^2 train: 0.979, test: 0.878\n"
     ]
    }
   ],
   "source": [
    "X = df.iloc[:,:-1].values\n",
    "y = df[\"MEDV\"].values\n",
    "X_train, X_test, y_train, y_test = train_test_split(X,y,test_size=0.4,random_state=1)\n",
    "fortest = RandomForestRegressor(n_estimators=1000,criterion=\"mse\",random_state=1,n_jobs=-1)\n",
    "fortest.fit(X_train,y_train)\n",
    "y_train_pred = fortest.predict(X_train)\n",
    "y_test_pred = fortest.predict(X_test)\n",
    "print(\"MSE train: %.3f, test: %.3f\"%(mean_squared_error(y_train,y_train_pred),\n",
    "                                    mean_squared_error(y_test,y_test_pred)))\n",
    "print(\"R^2 train: %.3f, test: %.3f\"%(r2_score(y_train,y_train_pred),\n",
    "                                    r2_score(y_test,y_test_pred)))"
   ]
  },
  {
   "cell_type": "code",
   "execution_count": null,
   "metadata": {
    "collapsed": true
   },
   "outputs": [],
   "source": []
  }
 ],
 "metadata": {
  "kernelspec": {
   "display_name": "Python 2",
   "language": "python",
   "name": "python2"
  },
  "language_info": {
   "codemirror_mode": {
    "name": "ipython",
    "version": 2
   },
   "file_extension": ".py",
   "mimetype": "text/x-python",
   "name": "python",
   "nbconvert_exporter": "python",
   "pygments_lexer": "ipython2",
   "version": "2.7.9"
  }
 },
 "nbformat": 4,
 "nbformat_minor": 2
}
